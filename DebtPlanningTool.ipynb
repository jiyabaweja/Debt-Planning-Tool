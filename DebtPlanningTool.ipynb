{
 "cells": [
  {
   "cell_type": "code",
   "execution_count": null,
   "id": "26a5965c-4e78-47c7-a833-fb25d451ddf1",
   "metadata": {},
   "outputs": [],
   "source": [
    "def calculate_emi(P, R, T):\n",
    "    monthly_rate = R / (12 * 100)\n",
    "    n = T * 12\n",
    "    emi = (P * monthly_rate * (1 + monthly_rate)**n) / ((1 + monthly_rate)**n - 1)\n",
    "    total_payment = emi * n\n",
    "    total_interest = total_payment - P\n",
    "    return round(emi, 2), round(total_interest, 2), round(total_payment, 2)\n",
    "\n",
    "# Step 2–4 merged\n",
    "num_debts = int(input(\"Enter number of debts to analyze: \"))\n",
    "debt_list = []\n",
    "\n",
    "for i in range(num_debts):\n",
    "    print(f\"\\nDebt {i+1}:\")\n",
    "    name = input(\"Debt Name: \")\n",
    "    P = float(input(\"Loan Amount (₹): \"))\n",
    "    R = float(input(\"Annual Interest Rate (%): \"))\n",
    "    T = float(input(\"Tenure (years): \"))\n",
    "\n",
    "    emi, interest, total = calculate_emi(P, R, T)\n",
    "    debt_list.append({\n",
    "        \"Name\": name,\n",
    "        \"EMI (₹/month)\": emi,\n",
    "        \"Total Interest (₹)\": interest,\n",
    "        \"Total Payment (₹)\": total\n",
    "    })\n",
    "\n",
    "# Summary & Insights\n",
    "print(\"\\n📋 Debt Summary & Analysis:\\n\")\n",
    "total_emi = 0\n",
    "for debt in debt_list:\n",
    "    print(f\"🟢 {debt['Name']}\")\n",
    "    print(f\"   EMI: ₹{debt['EMI (₹/month)']}\")\n",
    "    print(f\"   Total Interest: ₹{debt['Total Interest (₹)']}\")\n",
    "    print(f\"   Total Payment: ₹{debt['Total Payment (₹)']}\")\n",
    "    print(\"-\" * 30)\n",
    "    total_emi += debt[\"EMI (₹/month)\"]\n",
    "\n",
    "most_expensive = max(debt_list, key=lambda x: x[\"Total Interest (₹)\"])\n",
    "print(f\"\\n💰 Total Monthly EMI Outflow: ₹{round(total_emi, 2)}\")\n",
    "print(f\"⚠️ Costliest Debt by Interest: {most_expensive['Name']} (₹{most_expensive['Total Interest (₹)']})\")"
   ]
  },
  {
   "cell_type": "code",
   "execution_count": null,
   "id": "1d0e6ffc-29dd-44b2-a23a-504388c5cdc8",
   "metadata": {},
   "outputs": [],
   "source": []
  }
 ],
 "metadata": {
  "kernelspec": {
   "display_name": "Python [conda env:base] *",
   "language": "python",
   "name": "conda-base-py"
  },
  "language_info": {
   "codemirror_mode": {
    "name": "ipython",
    "version": 3
   },
   "file_extension": ".py",
   "mimetype": "text/x-python",
   "name": "python",
   "nbconvert_exporter": "python",
   "pygments_lexer": "ipython3",
   "version": "3.12.7"
  }
 },
 "nbformat": 4,
 "nbformat_minor": 5
}
